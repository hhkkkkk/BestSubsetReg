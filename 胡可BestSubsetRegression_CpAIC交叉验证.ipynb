{
 "cells": [
  {
   "cell_type": "code",
   "execution_count": 2,
   "metadata": {},
   "outputs": [],
   "source": [
    "import numpy as np\n",
    "from scipy import linalg \n",
    "import os\n",
    "import sys\n",
    "\n",
    "def turnbits_rec(p):\n",
    "    if(p==1):\n",
    "        return np.array([[True, False],[True, True]]) #第一列的True是截距项\n",
    "    else:\n",
    "        tmp1 = np.c_[ turnbits_rec(p-1), np.array([False]*(2**(p-1))).reshape((2**(p-1),1))]\n",
    "        tmp2 = np.c_[ turnbits_rec(p-1), np.array([True]*(2**(p-1))).reshape((2**(p-1),1))]\n",
    "        return np.r_[tmp1, tmp2]\n",
    "def solve_sym(xtx, xty):\n",
    "        L = linalg.cholesky(xtx)\n",
    "        return linalg.lapack.dpotrs(L, xty)[0]"
   ]
  },
  {
   "cell_type": "code",
   "execution_count": 3,
   "metadata": {},
   "outputs": [],
   "source": [
    "x = np.loadtxt(\"C:/Users/Effle Hu/AnancondaProjects/0306/Best Subset Regression/prostate/x.txt\", delimiter=\",\")\n",
    "y = np.loadtxt(\"C:/Users/Effle Hu/AnancondaProjects/0306/Best Subset Regression/prostate/y.txt\", delimiter=\",\")\n",
    "names = np.loadtxt(\"C:/Users/Effle Hu/AnancondaProjects/0306/Best Subset Regression/prostate/names.txt\", delimiter=\",\", dtype=str)"
   ]
  },
  {
   "cell_type": "code",
   "execution_count": 45,
   "metadata": {},
   "outputs": [],
   "source": [
    "class BestSubsetReg(object):\n",
    "    \n",
    "    def __init__(self, x=0, y=0, names=0, inter=True, isCp=True, isAIC=True):\n",
    "        self.n, self.p = np.shape(x)\n",
    "        self.names = names[0:self.p]\n",
    "        self.isCp = isCp\n",
    "        self.isAIC = isAIC\n",
    "        if inter:\n",
    "            self.x = np.c_[np.ones((self.n,1)), x]\n",
    "            self.p1 = self.p+1\n",
    "            self.names = np.append([\"inter\"],self.names)\n",
    "        else:\n",
    "            self.x = x\n",
    "            self.p1 = self.p\n",
    "        self.y = y\n",
    "        self.xx = np.dot(self.x.T, self.x)\n",
    "        self.xy = np.dot(self.x.T, self.y)\n",
    "        self.ind_var = turnbits_rec(self.p)\n",
    "        self.b = [solve_sym(self.xx[ind][:,ind], self.xy[ind]) for ind in self.ind_var]\n",
    "        if self.isCp:\n",
    "            self.Cp = 0\n",
    "        if self.isAIC:\n",
    "            self.AIC = 0\n",
    "        self.cv_err = 0\n",
    "     \n",
    "    def Cp_AIC(self):\n",
    "        XTy_1 = [self.xy[ind] for ind in self.ind_var]    \n",
    "        yTy = np.dot(self.y.T, self.y)\n",
    "        def RSS(xty, beta):\n",
    "            return np.sum(yTy - np.dot(xty.T,beta))\n",
    "        rss = np.array(list(map(RSS, XTy_1, self.b)))\n",
    "        sigma2 = rss[-1]/(self.n - self.p1)\n",
    "        d = [len(self.b[i]) for i in np.arange(0,2**self.p)]\n",
    "        if self.isCp:\n",
    "            self.Cp = [rss[i]+2*sigma2*d[i] for i in np.arange(0,2**self.p)]\n",
    "            min_id = np.argmin(self.Cp)\n",
    "            print(\"以Cp为准则：\")\n",
    "            print(list(zip(self.names[self.ind_var[min_id][0:]],self.b[min_id])))\n",
    "            \n",
    "        if self.isAIC:\n",
    "            self.AIC = [self.n*np.log(rss[i]) + 2*d[i] for i in np.arange(0,2**self.p)]\n",
    "            min_id = np.argmin(self.AIC)\n",
    "            print(\"以AIC为准则：\")\n",
    "            print(list(zip(self.names[self.ind_var[min_id][0:]],self.b[min_id])))\n",
    "    \n",
    "    def CV(self,K=10):\n",
    "        indexs = np.array_split(np.random.permutation(np.arange(0,self.n)),K)\n",
    "        def cvk(ind,index):\n",
    "            xtx_k = self.xx[ind][:,ind] - np.dot((self.x[index][:,ind]).T, self.x[index][:,ind])\n",
    "            xty_k = self.xy[ind] - np.dot((self.x[index][:,ind]).T, self.y[index])\n",
    "            b_k = solve_sym(xtx_k, xty_k)\n",
    "            return np.sum((self.y[index] - np.dot(self.x[index][:,ind], b_k))**2)\n",
    "         #self.cv_err = np.sum(np.array([[cvk(ind, index) for ind in self.ind_var] for index in indexs]), axis=0)/self.n\n",
    "        self.cv_err = [(np.sum(np.array([cvk(ind, index) for index in indexs])))/self.n for ind in self.ind_var]\n",
    "        min_id = np.argmin(self.cv_err)\n",
    "        print(\"交叉验证法：\")\n",
    "        print(list(zip(self.names[self.ind_var[min_id][0:]],self.b[min_id])))\n",
    "        "
   ]
  },
  {
   "cell_type": "code",
   "execution_count": 50,
   "metadata": {
    "scrolled": true
   },
   "outputs": [
    {
     "name": "stdout",
     "output_type": "stream",
     "text": [
      "以Cp为准则：\n",
      "[('inter', 0.49472926218273405), ('lcavol', 0.5439978569443544), ('lweight', 0.58821270309517), ('age', -0.01644484649754566), ('lbph', 0.10122333372346587), ('svi', 0.714903976347165)]\n",
      "以AIC为准则：\n",
      "[('inter', 0.49472926218273405), ('lcavol', 0.5439978569443544), ('lweight', 0.58821270309517), ('age', -0.01644484649754566), ('lbph', 0.10122333372346587), ('svi', 0.714903976347165)]\n",
      "交叉验证法：\n",
      "[('inter', -0.77715664158), ('lcavol', 0.5258518819809425), ('lweight', 0.6617699115944506), ('svi', 0.6656665628572002)]\n"
     ]
    }
   ],
   "source": [
    "reg1 = BestSubsetReg(x, y,names)\n",
    "reg1.Cp_AIC()\n",
    "reg1.CV(K=30)"
   ]
  }
 ],
 "metadata": {
  "kernelspec": {
   "display_name": "Python 3",
   "language": "python",
   "name": "python3"
  },
  "language_info": {
   "codemirror_mode": {
    "name": "ipython",
    "version": 3
   },
   "file_extension": ".py",
   "mimetype": "text/x-python",
   "name": "python",
   "nbconvert_exporter": "python",
   "pygments_lexer": "ipython3",
   "version": "3.7.0"
  }
 },
 "nbformat": 4,
 "nbformat_minor": 2
}
